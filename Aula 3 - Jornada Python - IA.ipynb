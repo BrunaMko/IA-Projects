{
 "cells": [
  {
   "cell_type": "code",
   "execution_count": 1,
   "id": "98ee6cfb",
   "metadata": {},
   "outputs": [],
   "source": [
    "import pandas as pd\n"
   ]
  },
  {
   "cell_type": "code",
   "execution_count": 2,
   "id": "526b55c5",
   "metadata": {},
   "outputs": [
    {
     "name": "stdout",
     "output_type": "stream",
     "text": [
      "       id_cliente  mes  idade  profissao  salario_anual  num_contas  \\\n",
      "0            3392    1   23.0  cientista       19114.12         3.0   \n",
      "1            3392    2   23.0  cientista       19114.12         3.0   \n",
      "2            3392    3   23.0  cientista       19114.12         3.0   \n",
      "3            3392    4   23.0  cientista       19114.12         3.0   \n",
      "4            3392    5   23.0  cientista       19114.12         3.0   \n",
      "...           ...  ...    ...        ...            ...         ...   \n",
      "99995       37932    4   25.0   mecanico       39628.99         4.0   \n",
      "99996       37932    5   25.0   mecanico       39628.99         4.0   \n",
      "99997       37932    6   25.0   mecanico       39628.99         4.0   \n",
      "99998       37932    7   25.0   mecanico       39628.99         4.0   \n",
      "99999       37932    8   25.0   mecanico       39628.99         4.0   \n",
      "\n",
      "       num_cartoes  juros_emprestimo  num_emprestimos  dias_atraso  ...  \\\n",
      "0              4.0               3.0              4.0          3.0  ...   \n",
      "1              4.0               3.0              4.0          3.0  ...   \n",
      "2              4.0               3.0              4.0          3.0  ...   \n",
      "3              4.0               3.0              4.0          5.0  ...   \n",
      "4              4.0               3.0              4.0          6.0  ...   \n",
      "...            ...               ...              ...          ...  ...   \n",
      "99995          6.0               7.0              2.0         23.0  ...   \n",
      "99996          6.0               7.0              2.0         18.0  ...   \n",
      "99997          6.0               7.0              2.0         27.0  ...   \n",
      "99998          6.0               7.0              2.0         20.0  ...   \n",
      "99999          6.0               7.0              2.0         18.0  ...   \n",
      "\n",
      "       idade_historico_credito  investimento_mensal  \\\n",
      "0                        265.0            21.465380   \n",
      "1                        266.0            21.465380   \n",
      "2                        267.0            21.465380   \n",
      "3                        268.0            21.465380   \n",
      "4                        269.0            21.465380   \n",
      "...                        ...                  ...   \n",
      "99995                    378.0            24.028477   \n",
      "99996                    379.0            24.028477   \n",
      "99997                    380.0            24.028477   \n",
      "99998                    381.0            24.028477   \n",
      "99999                    382.0            24.028477   \n",
      "\n",
      "           comportamento_pagamento  saldo_final_mes  score_credito  \\\n",
      "0      alto_gasto_pagamento_baixos       312.494089           Good   \n",
      "1       baixo_gasto_pagamento_alto       284.629162           Good   \n",
      "2      baixo_gasto_pagamento_medio       331.209863           Good   \n",
      "3      baixo_gasto_pagamento_baixo       223.451310           Good   \n",
      "4       alto_gasto_pagamento_medio       341.489231           Good   \n",
      "...                            ...              ...            ...   \n",
      "99995    alto_gasto_pagamento_alto       479.866228           Poor   \n",
      "99996   alto_gasto_pagamento_medio       496.651610           Poor   \n",
      "99997    alto_gasto_pagamento_alto       516.809083           Poor   \n",
      "99998   baixo_gasto_pagamento_alto       319.164979       Standard   \n",
      "99999   alto_gasto_pagamento_medio       393.673696           Poor   \n",
      "\n",
      "       emprestimo_carro  emprestimo_casa emprestimo_pessoal  \\\n",
      "0                     1                1                  1   \n",
      "1                     1                1                  1   \n",
      "2                     1                1                  1   \n",
      "3                     1                1                  1   \n",
      "4                     1                1                  1   \n",
      "...                 ...              ...                ...   \n",
      "99995                 1                0                  0   \n",
      "99996                 1                0                  0   \n",
      "99997                 1                0                  0   \n",
      "99998                 1                0                  0   \n",
      "99999                 1                0                  0   \n",
      "\n",
      "       emprestimo_credito emprestimo_estudantil  \n",
      "0                       1                     0  \n",
      "1                       1                     0  \n",
      "2                       1                     0  \n",
      "3                       1                     0  \n",
      "4                       1                     0  \n",
      "...                   ...                   ...  \n",
      "99995                   0                     1  \n",
      "99996                   0                     1  \n",
      "99997                   0                     1  \n",
      "99998                   0                     1  \n",
      "99999                   0                     1  \n",
      "\n",
      "[100000 rows x 25 columns]\n"
     ]
    }
   ],
   "source": [
    "tabela = pd.read_csv('clientes.csv')\n",
    "print(tabela)"
   ]
  },
  {
   "cell_type": "code",
   "execution_count": 3,
   "id": "68f65994",
   "metadata": {},
   "outputs": [
    {
     "name": "stdout",
     "output_type": "stream",
     "text": [
      "<class 'pandas.core.frame.DataFrame'>\n",
      "RangeIndex: 100000 entries, 0 to 99999\n",
      "Data columns (total 25 columns):\n",
      " #   Column                    Non-Null Count   Dtype  \n",
      "---  ------                    --------------   -----  \n",
      " 0   id_cliente                100000 non-null  int64  \n",
      " 1   mes                       100000 non-null  int64  \n",
      " 2   idade                     100000 non-null  float64\n",
      " 3   profissao                 100000 non-null  object \n",
      " 4   salario_anual             100000 non-null  float64\n",
      " 5   num_contas                100000 non-null  float64\n",
      " 6   num_cartoes               100000 non-null  float64\n",
      " 7   juros_emprestimo          100000 non-null  float64\n",
      " 8   num_emprestimos           100000 non-null  float64\n",
      " 9   dias_atraso               100000 non-null  float64\n",
      " 10  num_pagamentos_atrasados  100000 non-null  float64\n",
      " 11  num_verificacoes_credito  100000 non-null  float64\n",
      " 12  mix_credito               100000 non-null  object \n",
      " 13  divida_total              100000 non-null  float64\n",
      " 14  taxa_uso_credito          100000 non-null  float64\n",
      " 15  idade_historico_credito   100000 non-null  float64\n",
      " 16  investimento_mensal       100000 non-null  float64\n",
      " 17  comportamento_pagamento   100000 non-null  object \n",
      " 18  saldo_final_mes           100000 non-null  float64\n",
      " 19  score_credito             100000 non-null  object \n",
      " 20  emprestimo_carro          100000 non-null  int64  \n",
      " 21  emprestimo_casa           100000 non-null  int64  \n",
      " 22  emprestimo_pessoal        100000 non-null  int64  \n",
      " 23  emprestimo_credito        100000 non-null  int64  \n",
      " 24  emprestimo_estudantil     100000 non-null  int64  \n",
      "dtypes: float64(14), int64(7), object(4)\n",
      "memory usage: 19.1+ MB\n"
     ]
    }
   ],
   "source": [
    "#Resume as informações da base\n",
    "tabela.info()\n",
    "\n",
    "#int = numero inteiro\n",
    "#float = numero com virgula\n",
    "#object = texto\n",
    "#inteligencia artificial aprende apenas com numeros"
   ]
  },
  {
   "cell_type": "code",
   "execution_count": 4,
   "id": "e63b43ea",
   "metadata": {},
   "outputs": [
    {
     "data": {
      "text/plain": [
       "profissao\n",
       "advogado         7096\n",
       "engenheiro       6864\n",
       "arquiteto        6824\n",
       "mecanico         6776\n",
       "cientista        6744\n",
       "contador         6744\n",
       "desenvolvedor    6720\n",
       "gerente_midia    6720\n",
       "professor        6672\n",
       "empresario       6648\n",
       "medico           6568\n",
       "jornalista       6536\n",
       "gerente          6432\n",
       "musico           6352\n",
       "escritor         6304\n",
       "Name: count, dtype: int64"
      ]
     },
     "execution_count": 4,
     "metadata": {},
     "output_type": "execute_result"
    }
   ],
   "source": [
    "# kaggle site de base de dados\n",
    "# profissao      \n",
    "# mix_credito  \n",
    "# score_credito \n",
    "\n",
    "# Tratamento dos dados\n",
    "tabela['profissao'].value_counts()\n"
   ]
  },
  {
   "cell_type": "code",
   "execution_count": 5,
   "id": "c9593956",
   "metadata": {},
   "outputs": [],
   "source": [
    "from sklearn.preprocessing import LabelEncoder "
   ]
  },
  {
   "cell_type": "code",
   "execution_count": 6,
   "id": "a478335e",
   "metadata": {},
   "outputs": [],
   "source": [
    "codificador = LabelEncoder()"
   ]
  },
  {
   "cell_type": "code",
   "execution_count": 7,
   "id": "d8644e73",
   "metadata": {},
   "outputs": [],
   "source": [
    "tabela['profissao'] = codificador.fit_transform(tabela['profissao'])\n",
    "tabela['mix_credito'] = codificador.fit_transform(tabela['mix_credito'])\n",
    "tabela['comportamento_pagamento'] = codificador.fit_transform(tabela['comportamento_pagamento'])"
   ]
  },
  {
   "cell_type": "code",
   "execution_count": 8,
   "id": "a2d8b14e",
   "metadata": {},
   "outputs": [
    {
     "name": "stdout",
     "output_type": "stream",
     "text": [
      "<class 'pandas.core.frame.DataFrame'>\n",
      "RangeIndex: 100000 entries, 0 to 99999\n",
      "Data columns (total 25 columns):\n",
      " #   Column                    Non-Null Count   Dtype  \n",
      "---  ------                    --------------   -----  \n",
      " 0   id_cliente                100000 non-null  int64  \n",
      " 1   mes                       100000 non-null  int64  \n",
      " 2   idade                     100000 non-null  float64\n",
      " 3   profissao                 100000 non-null  int32  \n",
      " 4   salario_anual             100000 non-null  float64\n",
      " 5   num_contas                100000 non-null  float64\n",
      " 6   num_cartoes               100000 non-null  float64\n",
      " 7   juros_emprestimo          100000 non-null  float64\n",
      " 8   num_emprestimos           100000 non-null  float64\n",
      " 9   dias_atraso               100000 non-null  float64\n",
      " 10  num_pagamentos_atrasados  100000 non-null  float64\n",
      " 11  num_verificacoes_credito  100000 non-null  float64\n",
      " 12  mix_credito               100000 non-null  int32  \n",
      " 13  divida_total              100000 non-null  float64\n",
      " 14  taxa_uso_credito          100000 non-null  float64\n",
      " 15  idade_historico_credito   100000 non-null  float64\n",
      " 16  investimento_mensal       100000 non-null  float64\n",
      " 17  comportamento_pagamento   100000 non-null  int32  \n",
      " 18  saldo_final_mes           100000 non-null  float64\n",
      " 19  score_credito             100000 non-null  object \n",
      " 20  emprestimo_carro          100000 non-null  int64  \n",
      " 21  emprestimo_casa           100000 non-null  int64  \n",
      " 22  emprestimo_pessoal        100000 non-null  int64  \n",
      " 23  emprestimo_credito        100000 non-null  int64  \n",
      " 24  emprestimo_estudantil     100000 non-null  int64  \n",
      "dtypes: float64(14), int32(3), int64(7), object(1)\n",
      "memory usage: 17.9+ MB\n"
     ]
    }
   ],
   "source": [
    "tabela.info()"
   ]
  },
  {
   "cell_type": "code",
   "execution_count": 9,
   "id": "84e96fac",
   "metadata": {},
   "outputs": [],
   "source": [
    "#Aprendizado de máquina\n",
    "\n",
    "# y= coluna que quero prever\n",
    "# x = coluna que são usadas para a previsao\n",
    "\n",
    "y = tabela['score_credito']\n",
    "x = tabela.drop(columns=['score_credito', 'id_cliente'])"
   ]
  },
  {
   "cell_type": "code",
   "execution_count": 10,
   "id": "225f1375",
   "metadata": {},
   "outputs": [],
   "source": [
    "from sklearn.model_selection import train_test_split"
   ]
  },
  {
   "cell_type": "code",
   "execution_count": 11,
   "id": "bf8a6887",
   "metadata": {},
   "outputs": [],
   "source": [
    "#Por padrao define 70% de treino, 30% de teste\n",
    "x_train, x_test, y_train, y_test = train_test_split(x,y, test_size= 0.3)"
   ]
  },
  {
   "cell_type": "code",
   "execution_count": 12,
   "id": "02996103",
   "metadata": {},
   "outputs": [
    {
     "data": {
      "text/html": [
       "<style>#sk-container-id-1 {color: black;}#sk-container-id-1 pre{padding: 0;}#sk-container-id-1 div.sk-toggleable {background-color: white;}#sk-container-id-1 label.sk-toggleable__label {cursor: pointer;display: block;width: 100%;margin-bottom: 0;padding: 0.3em;box-sizing: border-box;text-align: center;}#sk-container-id-1 label.sk-toggleable__label-arrow:before {content: \"▸\";float: left;margin-right: 0.25em;color: #696969;}#sk-container-id-1 label.sk-toggleable__label-arrow:hover:before {color: black;}#sk-container-id-1 div.sk-estimator:hover label.sk-toggleable__label-arrow:before {color: black;}#sk-container-id-1 div.sk-toggleable__content {max-height: 0;max-width: 0;overflow: hidden;text-align: left;background-color: #f0f8ff;}#sk-container-id-1 div.sk-toggleable__content pre {margin: 0.2em;color: black;border-radius: 0.25em;background-color: #f0f8ff;}#sk-container-id-1 input.sk-toggleable__control:checked~div.sk-toggleable__content {max-height: 200px;max-width: 100%;overflow: auto;}#sk-container-id-1 input.sk-toggleable__control:checked~label.sk-toggleable__label-arrow:before {content: \"▾\";}#sk-container-id-1 div.sk-estimator input.sk-toggleable__control:checked~label.sk-toggleable__label {background-color: #d4ebff;}#sk-container-id-1 div.sk-label input.sk-toggleable__control:checked~label.sk-toggleable__label {background-color: #d4ebff;}#sk-container-id-1 input.sk-hidden--visually {border: 0;clip: rect(1px 1px 1px 1px);clip: rect(1px, 1px, 1px, 1px);height: 1px;margin: -1px;overflow: hidden;padding: 0;position: absolute;width: 1px;}#sk-container-id-1 div.sk-estimator {font-family: monospace;background-color: #f0f8ff;border: 1px dotted black;border-radius: 0.25em;box-sizing: border-box;margin-bottom: 0.5em;}#sk-container-id-1 div.sk-estimator:hover {background-color: #d4ebff;}#sk-container-id-1 div.sk-parallel-item::after {content: \"\";width: 100%;border-bottom: 1px solid gray;flex-grow: 1;}#sk-container-id-1 div.sk-label:hover label.sk-toggleable__label {background-color: #d4ebff;}#sk-container-id-1 div.sk-serial::before {content: \"\";position: absolute;border-left: 1px solid gray;box-sizing: border-box;top: 0;bottom: 0;left: 50%;z-index: 0;}#sk-container-id-1 div.sk-serial {display: flex;flex-direction: column;align-items: center;background-color: white;padding-right: 0.2em;padding-left: 0.2em;position: relative;}#sk-container-id-1 div.sk-item {position: relative;z-index: 1;}#sk-container-id-1 div.sk-parallel {display: flex;align-items: stretch;justify-content: center;background-color: white;position: relative;}#sk-container-id-1 div.sk-item::before, #sk-container-id-1 div.sk-parallel-item::before {content: \"\";position: absolute;border-left: 1px solid gray;box-sizing: border-box;top: 0;bottom: 0;left: 50%;z-index: -1;}#sk-container-id-1 div.sk-parallel-item {display: flex;flex-direction: column;z-index: 1;position: relative;background-color: white;}#sk-container-id-1 div.sk-parallel-item:first-child::after {align-self: flex-end;width: 50%;}#sk-container-id-1 div.sk-parallel-item:last-child::after {align-self: flex-start;width: 50%;}#sk-container-id-1 div.sk-parallel-item:only-child::after {width: 0;}#sk-container-id-1 div.sk-dashed-wrapped {border: 1px dashed gray;margin: 0 0.4em 0.5em 0.4em;box-sizing: border-box;padding-bottom: 0.4em;background-color: white;}#sk-container-id-1 div.sk-label label {font-family: monospace;font-weight: bold;display: inline-block;line-height: 1.2em;}#sk-container-id-1 div.sk-label-container {text-align: center;}#sk-container-id-1 div.sk-container {/* jupyter's `normalize.less` sets `[hidden] { display: none; }` but bootstrap.min.css set `[hidden] { display: none !important; }` so we also need the `!important` here to be able to override the default hidden behavior on the sphinx rendered scikit-learn.org. See: https://github.com/scikit-learn/scikit-learn/issues/21755 */display: inline-block !important;position: relative;}#sk-container-id-1 div.sk-text-repr-fallback {display: none;}</style><div id=\"sk-container-id-1\" class=\"sk-top-container\"><div class=\"sk-text-repr-fallback\"><pre>KNeighborsClassifier()</pre><b>In a Jupyter environment, please rerun this cell to show the HTML representation or trust the notebook. <br />On GitHub, the HTML representation is unable to render, please try loading this page with nbviewer.org.</b></div><div class=\"sk-container\" hidden><div class=\"sk-item\"><div class=\"sk-estimator sk-toggleable\"><input class=\"sk-toggleable__control sk-hidden--visually\" id=\"sk-estimator-id-1\" type=\"checkbox\" checked><label for=\"sk-estimator-id-1\" class=\"sk-toggleable__label sk-toggleable__label-arrow\">KNeighborsClassifier</label><div class=\"sk-toggleable__content\"><pre>KNeighborsClassifier()</pre></div></div></div></div></div>"
      ],
      "text/plain": [
       "KNeighborsClassifier()"
      ]
     },
     "execution_count": 12,
     "metadata": {},
     "output_type": "execute_result"
    }
   ],
   "source": [
    "#Criar a inteligencia artificial\n",
    "\n",
    "# Arvore de decisão e KNN\n",
    "\n",
    "#importa a inteligencia artificial\n",
    "from sklearn.ensemble import RandomForestClassifier\n",
    "from sklearn.neighbors import KNeighborsClassifier\n",
    "\n",
    "#criar a inteligencia artificial\n",
    "modelo_arvore_decisao = RandomForestClassifier()\n",
    "modelo_knn = KNeighborsClassifier()\n",
    "\n",
    "#treinar\n",
    "modelo_arvore_decisao.fit(x_train,y_train)\n",
    "modelo_knn.fit(x_train,y_train)"
   ]
  },
  {
   "cell_type": "code",
   "execution_count": 13,
   "id": "f2d7a00f",
   "metadata": {},
   "outputs": [],
   "source": [
    "import numpy "
   ]
  },
  {
   "cell_type": "code",
   "execution_count": 14,
   "id": "4aa7cb7d",
   "metadata": {},
   "outputs": [
    {
     "name": "stderr",
     "output_type": "stream",
     "text": [
      "C:\\Users\\bru_m\\anaconda3\\Lib\\site-packages\\sklearn\\base.py:464: UserWarning: X does not have valid feature names, but KNeighborsClassifier was fitted with feature names\n",
      "  warnings.warn(\n"
     ]
    }
   ],
   "source": [
    "#testar os modelos\n",
    "previsao_arvore = modelo_arvore_decisao.predict(x_test)\n",
    "previsao_knn = modelo_knn.predict(x_test.to_numpy())"
   ]
  },
  {
   "cell_type": "code",
   "execution_count": 15,
   "id": "67f3cf66",
   "metadata": {},
   "outputs": [],
   "source": [
    "from sklearn.metrics import accuracy_score"
   ]
  },
  {
   "cell_type": "code",
   "execution_count": 16,
   "id": "c2121476",
   "metadata": {},
   "outputs": [
    {
     "name": "stdout",
     "output_type": "stream",
     "text": [
      "0.8247666666666666\n",
      "0.7366666666666667\n"
     ]
    }
   ],
   "source": [
    "print(accuracy_score(y_test,previsao_arvore))\n",
    "print(accuracy_score(y_test,previsao_knn))"
   ]
  },
  {
   "cell_type": "code",
   "execution_count": 17,
   "id": "de36f3a1",
   "metadata": {},
   "outputs": [
    {
     "data": {
      "text/html": [
       "<div>\n",
       "<style scoped>\n",
       "    .dataframe tbody tr th:only-of-type {\n",
       "        vertical-align: middle;\n",
       "    }\n",
       "\n",
       "    .dataframe tbody tr th {\n",
       "        vertical-align: top;\n",
       "    }\n",
       "\n",
       "    .dataframe thead th {\n",
       "        text-align: right;\n",
       "    }\n",
       "</style>\n",
       "<table border=\"1\" class=\"dataframe\">\n",
       "  <thead>\n",
       "    <tr style=\"text-align: right;\">\n",
       "      <th></th>\n",
       "      <th>mes</th>\n",
       "      <th>idade</th>\n",
       "      <th>profissao</th>\n",
       "      <th>salario_anual</th>\n",
       "      <th>num_contas</th>\n",
       "      <th>num_cartoes</th>\n",
       "      <th>juros_emprestimo</th>\n",
       "      <th>num_emprestimos</th>\n",
       "      <th>dias_atraso</th>\n",
       "      <th>num_pagamentos_atrasados</th>\n",
       "      <th>...</th>\n",
       "      <th>taxa_uso_credito</th>\n",
       "      <th>idade_historico_credito</th>\n",
       "      <th>investimento_mensal</th>\n",
       "      <th>comportamento_pagamento</th>\n",
       "      <th>saldo_final_mes</th>\n",
       "      <th>emprestimo_carro</th>\n",
       "      <th>emprestimo_casa</th>\n",
       "      <th>emprestimo_pessoal</th>\n",
       "      <th>emprestimo_credito</th>\n",
       "      <th>emprestimo_estudantil</th>\n",
       "    </tr>\n",
       "  </thead>\n",
       "  <tbody>\n",
       "    <tr>\n",
       "      <th>0</th>\n",
       "      <td>1</td>\n",
       "      <td>31.0</td>\n",
       "      <td>empresario</td>\n",
       "      <td>19300.340</td>\n",
       "      <td>6.0</td>\n",
       "      <td>7.0</td>\n",
       "      <td>17.0</td>\n",
       "      <td>5.0</td>\n",
       "      <td>52.0</td>\n",
       "      <td>19.0</td>\n",
       "      <td>...</td>\n",
       "      <td>29.934186</td>\n",
       "      <td>218.0</td>\n",
       "      <td>44.50951</td>\n",
       "      <td>baixo_gasto_pagamento_baixo</td>\n",
       "      <td>312.487689</td>\n",
       "      <td>1</td>\n",
       "      <td>1</td>\n",
       "      <td>0</td>\n",
       "      <td>0</td>\n",
       "      <td>0</td>\n",
       "    </tr>\n",
       "    <tr>\n",
       "      <th>1</th>\n",
       "      <td>4</td>\n",
       "      <td>32.0</td>\n",
       "      <td>advogado</td>\n",
       "      <td>12600.445</td>\n",
       "      <td>5.0</td>\n",
       "      <td>5.0</td>\n",
       "      <td>10.0</td>\n",
       "      <td>3.0</td>\n",
       "      <td>25.0</td>\n",
       "      <td>18.0</td>\n",
       "      <td>...</td>\n",
       "      <td>28.819407</td>\n",
       "      <td>12.0</td>\n",
       "      <td>0.00000</td>\n",
       "      <td>baixo_gasto_pagamento_medio</td>\n",
       "      <td>300.994163</td>\n",
       "      <td>0</td>\n",
       "      <td>0</td>\n",
       "      <td>0</td>\n",
       "      <td>0</td>\n",
       "      <td>1</td>\n",
       "    </tr>\n",
       "    <tr>\n",
       "      <th>2</th>\n",
       "      <td>2</td>\n",
       "      <td>48.0</td>\n",
       "      <td>empresario</td>\n",
       "      <td>20787.690</td>\n",
       "      <td>8.0</td>\n",
       "      <td>6.0</td>\n",
       "      <td>14.0</td>\n",
       "      <td>7.0</td>\n",
       "      <td>24.0</td>\n",
       "      <td>14.0</td>\n",
       "      <td>...</td>\n",
       "      <td>34.235853</td>\n",
       "      <td>215.0</td>\n",
       "      <td>0.00000</td>\n",
       "      <td>baixo_gasto_pagamento_alto</td>\n",
       "      <td>345.081577</td>\n",
       "      <td>0</td>\n",
       "      <td>1</td>\n",
       "      <td>0</td>\n",
       "      <td>1</td>\n",
       "      <td>0</td>\n",
       "    </tr>\n",
       "  </tbody>\n",
       "</table>\n",
       "<p>3 rows × 23 columns</p>\n",
       "</div>"
      ],
      "text/plain": [
       "   mes  idade   profissao  salario_anual  num_contas  num_cartoes  \\\n",
       "0    1   31.0  empresario      19300.340         6.0          7.0   \n",
       "1    4   32.0    advogado      12600.445         5.0          5.0   \n",
       "2    2   48.0  empresario      20787.690         8.0          6.0   \n",
       "\n",
       "   juros_emprestimo  num_emprestimos  dias_atraso  num_pagamentos_atrasados  \\\n",
       "0              17.0              5.0         52.0                      19.0   \n",
       "1              10.0              3.0         25.0                      18.0   \n",
       "2              14.0              7.0         24.0                      14.0   \n",
       "\n",
       "   ...  taxa_uso_credito idade_historico_credito  investimento_mensal  \\\n",
       "0  ...         29.934186                   218.0             44.50951   \n",
       "1  ...         28.819407                    12.0              0.00000   \n",
       "2  ...         34.235853                   215.0              0.00000   \n",
       "\n",
       "       comportamento_pagamento  saldo_final_mes  emprestimo_carro  \\\n",
       "0  baixo_gasto_pagamento_baixo       312.487689                 1   \n",
       "1  baixo_gasto_pagamento_medio       300.994163                 0   \n",
       "2   baixo_gasto_pagamento_alto       345.081577                 0   \n",
       "\n",
       "  emprestimo_casa  emprestimo_pessoal  emprestimo_credito  \\\n",
       "0               1                   0                   0   \n",
       "1               0                   0                   0   \n",
       "2               1                   0                   1   \n",
       "\n",
       "   emprestimo_estudantil  \n",
       "0                      0  \n",
       "1                      1  \n",
       "2                      0  \n",
       "\n",
       "[3 rows x 23 columns]"
      ]
     },
     "execution_count": 17,
     "metadata": {},
     "output_type": "execute_result"
    }
   ],
   "source": [
    "#fazer novas previsoes\n",
    "tabela2 = pd.read_csv('novos_clientes.csv')\n",
    "tabela2.head()"
   ]
  },
  {
   "cell_type": "code",
   "execution_count": 18,
   "id": "4db6c9aa",
   "metadata": {},
   "outputs": [
    {
     "data": {
      "text/plain": [
       "Index(['mes', 'idade', 'profissao', 'salario_anual', 'num_contas',\n",
       "       'num_cartoes', 'juros_emprestimo', 'num_emprestimos', 'dias_atraso',\n",
       "       'num_pagamentos_atrasados', 'num_verificacoes_credito', 'mix_credito',\n",
       "       'divida_total', 'taxa_uso_credito', 'idade_historico_credito',\n",
       "       'investimento_mensal', 'comportamento_pagamento', 'saldo_final_mes',\n",
       "       'emprestimo_carro', 'emprestimo_casa', 'emprestimo_pessoal',\n",
       "       'emprestimo_credito', 'emprestimo_estudantil'],\n",
       "      dtype='object')"
      ]
     },
     "execution_count": 18,
     "metadata": {},
     "output_type": "execute_result"
    }
   ],
   "source": [
    "tabela2.columns"
   ]
  },
  {
   "cell_type": "code",
   "execution_count": 19,
   "id": "17d20d04",
   "metadata": {},
   "outputs": [],
   "source": [
    "tabela2['profissao'] = codificador.fit_transform(tabela2['profissao'])\n",
    "tabela2['mix_credito'] = codificador.fit_transform(tabela2['mix_credito'])\n",
    "tabela2['comportamento_pagamento'] = codificador.fit_transform(tabela2['comportamento_pagamento'])"
   ]
  },
  {
   "cell_type": "code",
   "execution_count": 20,
   "id": "94f2bb88",
   "metadata": {},
   "outputs": [
    {
     "name": "stdout",
     "output_type": "stream",
     "text": [
      "   mes  idade  profissao  salario_anual  num_contas  num_cartoes  \\\n",
      "0    1   31.0          1      19300.340         6.0          7.0   \n",
      "1    4   32.0          0      12600.445         5.0          5.0   \n",
      "2    2   48.0          1      20787.690         8.0          6.0   \n",
      "\n",
      "   juros_emprestimo  num_emprestimos  dias_atraso  num_pagamentos_atrasados  \\\n",
      "0              17.0              5.0         52.0                      19.0   \n",
      "1              10.0              3.0         25.0                      18.0   \n",
      "2              14.0              7.0         24.0                      14.0   \n",
      "\n",
      "   ...  taxa_uso_credito  idade_historico_credito  investimento_mensal  \\\n",
      "0  ...         29.934186                    218.0             44.50951   \n",
      "1  ...         28.819407                     12.0              0.00000   \n",
      "2  ...         34.235853                    215.0              0.00000   \n",
      "\n",
      "   comportamento_pagamento  saldo_final_mes  emprestimo_carro  \\\n",
      "0                        1       312.487689                 1   \n",
      "1                        2       300.994163                 0   \n",
      "2                        0       345.081577                 0   \n",
      "\n",
      "   emprestimo_casa  emprestimo_pessoal  emprestimo_credito  \\\n",
      "0                1                   0                   0   \n",
      "1                0                   0                   0   \n",
      "2                1                   0                   1   \n",
      "\n",
      "   emprestimo_estudantil  \n",
      "0                      0  \n",
      "1                      1  \n",
      "2                      0  \n",
      "\n",
      "[3 rows x 23 columns]\n"
     ]
    }
   ],
   "source": [
    "print(tabela2)"
   ]
  },
  {
   "cell_type": "code",
   "execution_count": 21,
   "id": "c880ee53",
   "metadata": {},
   "outputs": [
    {
     "name": "stdout",
     "output_type": "stream",
     "text": [
      "['Poor' 'Standard' 'Standard']\n"
     ]
    }
   ],
   "source": [
    "previsoes = modelo_arvore_decisao.predict(tabela2)\n",
    "print(previsoes)"
   ]
  },
  {
   "cell_type": "code",
   "execution_count": null,
   "id": "59eeb888",
   "metadata": {},
   "outputs": [],
   "source": []
  }
 ],
 "metadata": {
  "kernelspec": {
   "display_name": "Python 3 (ipykernel)",
   "language": "python",
   "name": "python3"
  },
  "language_info": {
   "codemirror_mode": {
    "name": "ipython",
    "version": 3
   },
   "file_extension": ".py",
   "mimetype": "text/x-python",
   "name": "python",
   "nbconvert_exporter": "python",
   "pygments_lexer": "ipython3",
   "version": "3.11.5"
  }
 },
 "nbformat": 4,
 "nbformat_minor": 5
}
